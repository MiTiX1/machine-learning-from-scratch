{
 "cells": [
  {
   "attachments": {},
   "cell_type": "markdown",
   "metadata": {},
   "source": [
    "# K-nearest neighbors"
   ]
  },
  {
   "cell_type": "code",
   "execution_count": 1,
   "metadata": {},
   "outputs": [],
   "source": [
    "import numpy as np\n",
    "from collections import Counter\n",
    "from sklearn.datasets import load_iris\n",
    "from sklearn.model_selection import train_test_split"
   ]
  },
  {
   "attachments": {},
   "cell_type": "markdown",
   "metadata": {},
   "source": [
    "## Create the model\n",
    "\n",
    "- **Euclidean distance**:\n",
    "$d(p, q) = \\sqrt{\\sum_{i=1}^{n}(p_i - q_i)^2}$"
   ]
  },
  {
   "cell_type": "code",
   "execution_count": 2,
   "metadata": {},
   "outputs": [],
   "source": [
    "class KNN:\n",
    "    def __init__(self, k: int = 3) -> None:\n",
    "        self.k = k\n",
    "\n",
    "    def _euclidean_distance(self, x1, x2) -> float:\n",
    "        return np.sqrt(np.sum((x2 - x1)**2))\n",
    "\n",
    "    def _get_most_common(self, x: np.ndarray) -> int:\n",
    "        distances = [self._euclidean_distance(x, x_train) for x_train in self.X_train]\n",
    "        indices = np.argsort(distances)[: self.k]\n",
    "        labels = [self.y_train[i] for i in indices]\n",
    "        return Counter(labels).most_common(1)[0][0]\n",
    "\n",
    "    def fit(self, X: np.ndarray, y: np.ndarray) -> None:\n",
    "        self.X_train = X\n",
    "        self.y_train = y\n",
    "\n",
    "    def predict(self, X: np.ndarray) -> np.ndarray:\n",
    "        return np.array([self._get_most_common(x) for x in X])\n",
    "\n",
    "    def score(self, y_true: np.ndarray, y_pred: np.ndarray) -> float:\n",
    "        return np.mean(y_true == y_pred)"
   ]
  },
  {
   "attachments": {},
   "cell_type": "markdown",
   "metadata": {},
   "source": [
    "## Test the model"
   ]
  },
  {
   "cell_type": "code",
   "execution_count": 3,
   "metadata": {},
   "outputs": [],
   "source": [
    "iris = load_iris()\n",
    "x_train, x_test, y_train, y_test = train_test_split(iris.data, iris.target, test_size=0.2, shuffle=True, random_state=0)"
   ]
  },
  {
   "cell_type": "code",
   "execution_count": 4,
   "metadata": {},
   "outputs": [],
   "source": [
    "model = KNN()\n",
    "model.fit(x_train, y_train)\n",
    "pred = model.predict(x_test)"
   ]
  },
  {
   "cell_type": "code",
   "execution_count": 5,
   "metadata": {},
   "outputs": [
    {
     "name": "stdout",
     "output_type": "stream",
     "text": [
      "Score on training data: 0.95\n",
      "Score on testing data: 0.9666666666666667\n"
     ]
    }
   ],
   "source": [
    "print(f\"Score on training data: {model.score(y_train, model.predict(x_train))}\")\n",
    "print(f\"Score on testing data: {model.score(y_test, pred)}\")"
   ]
  }
 ],
 "metadata": {
  "kernelspec": {
   "display_name": "Python 3",
   "language": "python",
   "name": "python3"
  },
  "language_info": {
   "codemirror_mode": {
    "name": "ipython",
    "version": 3
   },
   "file_extension": ".py",
   "mimetype": "text/x-python",
   "name": "python",
   "nbconvert_exporter": "python",
   "pygments_lexer": "ipython3",
   "version": "3.10.4"
  },
  "orig_nbformat": 4,
  "vscode": {
   "interpreter": {
    "hash": "fdad95d8d241660c8190244d3c8c7cd5020a5821f919c190bce90b02a3b33d1f"
   }
  }
 },
 "nbformat": 4,
 "nbformat_minor": 2
}
