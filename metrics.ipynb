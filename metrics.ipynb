{
 "cells": [
  {
   "attachments": {},
   "cell_type": "markdown",
   "metadata": {},
   "source": [
    "# Metrics"
   ]
  },
  {
   "cell_type": "code",
   "execution_count": 1,
   "metadata": {},
   "outputs": [],
   "source": [
    "import numpy as np"
   ]
  },
  {
   "attachments": {},
   "cell_type": "markdown",
   "metadata": {},
   "source": [
    "## Coefficient of determination $R^2$\n",
    "The coefficient of determination, denoted R2 or r2, is the proportion of the variation in the dependent variable that is predictable from the independent variable(s).\n",
    "$$\n",
    "RSS = \\sum_{i=1}^{n}(y_i - f(x_i))^2 \\\\\n",
    "TSS = \\sum_{i=1}^{n}(y_i - \\overline{y})^2; \\: \\text{with } \\: \\overline{y} = \\frac{1}{n}\\sum_{i=1}^{n}y_i \\\\\n",
    "R^2 = 1 - \\frac{RSS}{TSS}\n",
    "$$\n",
    "[wikipedia article](https://en.wikipedia.org/wiki/Coefficient_of_determination)"
   ]
  },
  {
   "cell_type": "code",
   "execution_count": null,
   "metadata": {},
   "outputs": [],
   "source": [
    "def RSS(y_true: np.ndarray, y_pred: np.ndarray) -> float:\n",
    "    return np.sum((y_true - y_pred)**2)\n",
    "\n",
    "def TSS(y_true: np.ndarray, y_pred: np.ndarray) -> float:\n",
    "    return np.sum((y_true - y_true.mean())**2)\n",
    "\n",
    "def r2_score(y_true: np.ndarray, y_pred: np.ndarray) -> float:\n",
    "    return 1 - RSS(y_true, y_pred) / TSS(y_true, y_pred)"
   ]
  }
 ],
 "metadata": {
  "kernelspec": {
   "display_name": "Python 3",
   "language": "python",
   "name": "python3"
  },
  "language_info": {
   "codemirror_mode": {
    "name": "ipython",
    "version": 3
   },
   "file_extension": ".py",
   "mimetype": "text/x-python",
   "name": "python",
   "nbconvert_exporter": "python",
   "pygments_lexer": "ipython3",
   "version": "3.10.4"
  },
  "orig_nbformat": 4,
  "vscode": {
   "interpreter": {
    "hash": "fdad95d8d241660c8190244d3c8c7cd5020a5821f919c190bce90b02a3b33d1f"
   }
  }
 },
 "nbformat": 4,
 "nbformat_minor": 2
}
