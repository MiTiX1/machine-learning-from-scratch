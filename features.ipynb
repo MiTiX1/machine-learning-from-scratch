{
 "cells": [
  {
   "attachments": {},
   "cell_type": "markdown",
   "metadata": {},
   "source": [
    "# Feature engineering"
   ]
  },
  {
   "cell_type": "code",
   "execution_count": 1,
   "metadata": {},
   "outputs": [],
   "source": [
    "import numpy as np"
   ]
  },
  {
   "attachments": {},
   "cell_type": "markdown",
   "metadata": {},
   "source": [
    "## Feature scaling"
   ]
  },
  {
   "attachments": {},
   "cell_type": "markdown",
   "metadata": {},
   "source": [
    "- **min-max normalization**\n",
    "    - $\\frac{x - min(x)}{max(x) - min(x)} \\in [0, 1]$\n",
    "    - $a + \\frac{(x - \\mu)(b - a)}{max(x) - min(x)} \\in [a, b]$\n",
    "- **Mean normalization**\n",
    "    - $\\frac{x - \\mu}{max(x) - min(x)}$\n",
    "- **Z-score normalization**\n",
    "    - $\\frac{x - \\mu}{\\sigma}$"
   ]
  },
  {
   "attachments": {},
   "cell_type": "markdown",
   "metadata": {},
   "source": [
    "### Examples\n",
    "$$\n",
    "X = \\begin{bmatrix}\n",
    "1 & 2 & 3\\\\\n",
    "4 & 6 & 6 \\\\\n",
    "7 & 8 & 9\n",
    "\\end{bmatrix}\n",
    "\\\\\n",
    "\n",
    "X_{min} = \\begin{bmatrix}1 & 2 & 3\\end{bmatrix};\n",
    "X_{max} = \\begin{bmatrix}7 & 8 & 9\\end{bmatrix};\n",
    "\\mu = \\begin{bmatrix}4 & 5 & 6\\end{bmatrix}\n",
    "\\sigma = \\begin{bmatrix}2.45 & 2.45 & 2.45\\end{bmatrix} \\\\\n",
    "\n",
    "\\frac{X - X_{min}}{X_{max}-X_{min}}=\\begin{bmatrix}0 & 0 & 0\\\\ 0.5 & 0.5 & 0.5 \\\\ 1 & 1 & 1\\end{bmatrix};\n",
    "-1 + \\frac{(X - X_{min})(1 - (-1))}{X_{max}-X_{min}}=\\begin{bmatrix}-1 & -1 & -1\\\\ 0 & 0 & 0 \\\\ 1 & 1 & 1\\end{bmatrix} \\\\\n",
    "\\frac{X - \\mu}{X_{max}-X_{min}}=\\begin{bmatrix}-0.5 & -0.5 & -0.5\\\\ 0 & 0 & 0 \\\\ 0.5 & 0.5 & 0.5\\end{bmatrix};\n",
    "\\frac{X - \\mu}{\\sigma}=\\begin{bmatrix}-1.22 & -1.22 & -1.22\\\\ 0 & 0 & 0 \\\\ 1.22 & 1.22 & 1.22\\end{bmatrix}\n",
    "$$"
   ]
  },
  {
   "cell_type": "code",
   "execution_count": 31,
   "metadata": {},
   "outputs": [],
   "source": [
    "def min_max_scaler(X: np.ndarray, min: float = 0.0, max: int = 1.0) -> np.ndarray:\n",
    "    return (X - X.min(axis=0)) * (max - min) / (X.max(axis=0) - X.min(axis=0)) + min\n",
    "\n",
    "def mean_scaler(X: np.ndarray) -> np.ndarray:\n",
    "    return (X - X.mean(axis=0)) / (X.max(axis=0) - X.min(axis=0))\n",
    "\n",
    "def z_score_scaler(X: np.ndarray) -> np.ndarray:\n",
    "    return (X - X.mean(axis=0)) / X.std(axis=0)"
   ]
  }
 ],
 "metadata": {
  "kernelspec": {
   "display_name": "Python 3",
   "language": "python",
   "name": "python3"
  },
  "language_info": {
   "codemirror_mode": {
    "name": "ipython",
    "version": 3
   },
   "file_extension": ".py",
   "mimetype": "text/x-python",
   "name": "python",
   "nbconvert_exporter": "python",
   "pygments_lexer": "ipython3",
   "version": "3.10.4"
  },
  "orig_nbformat": 4,
  "vscode": {
   "interpreter": {
    "hash": "fdad95d8d241660c8190244d3c8c7cd5020a5821f919c190bce90b02a3b33d1f"
   }
  }
 },
 "nbformat": 4,
 "nbformat_minor": 2
}
