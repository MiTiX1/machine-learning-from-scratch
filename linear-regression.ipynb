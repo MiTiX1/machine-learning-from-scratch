{
 "cells": [
  {
   "attachments": {},
   "cell_type": "markdown",
   "metadata": {},
   "source": [
    "# Linear regression"
   ]
  },
  {
   "cell_type": "code",
   "execution_count": 1,
   "metadata": {},
   "outputs": [],
   "source": [
    "import numpy as np\n",
    "import matplotlib.pyplot as plt\n",
    "from sklearn.datasets import make_regression\n",
    "from sklearn.model_selection import train_test_split"
   ]
  },
  {
   "attachments": {},
   "cell_type": "markdown",
   "metadata": {},
   "source": [
    "## Create the model\n",
    "\n",
    "- **Definition**:\n",
    "    - $X \\in \\R^{m \\times n}; \\:y \\in \\R^{m \\times 1}$\n",
    "    - $(X, y)$ - training examples\n",
    "    - $\\alpha$ - learning rate\n",
    "\n",
    "- **Model**: \n",
    "$f(X) = WX + b = \\hat{y}$\n",
    "\n",
    "- **Cost function**:\n",
    "$J(W, b) = \\frac{1}{n} \\sum_{i=1}^{n}(f(x_i) - y_i)^2 = \\frac{1}{n} \\sum_{i=1}^{n}(Wx_i+b - y_i)^2$\n",
    "\n",
    "- **Gradients**:\n",
    "    - $\\frac{\\partial J(W,b)}{\\partial W} = \\frac{1}{n} \\sum 2x_i(Wx_i + b - y_i)$\n",
    "    - $\\frac{\\partial J(W,b)}{\\partial b} = \\frac{1}{n} \\sum 2(Wx_i + b - y_i)$\n",
    "    - In practice, we can get ride of the scaling factor $(2)$.\n",
    "\n",
    "- **Gradient descent**:\n",
    "    - $W = W - \\alpha \\frac{\\partial J(W,b)}{\\partial W}$\n",
    "    - $b = b - \\alpha \\frac{\\partial J(W,b)}{\\partial b}$"
   ]
  },
  {
   "cell_type": "code",
   "execution_count": 2,
   "metadata": {},
   "outputs": [],
   "source": [
    "class LinearRegression:\n",
    "    def __init__(self, n_iter: int = 1000, learning_rate: float = 0.001) -> None:\n",
    "        self.n_iter = n_iter\n",
    "        self.learning_rate = learning_rate\n",
    "\n",
    "    def _init_weights(self, n: int) -> None:\n",
    "        self.W = np.random.randn(n)\n",
    "        self.b = np.random.rand(1)\n",
    "\n",
    "    def fit(self, X: np.ndarray, y: np.ndarray) -> None:\n",
    "        m, n = X.shape\n",
    "        self._init_weights(n)\n",
    "\n",
    "        for _ in range(self.n_iter):\n",
    "            y_pred = self.predict(X)\n",
    "            self.W -= self.learning_rate * (X.T.dot(y_pred - y) / m)\n",
    "            self.b -= self.learning_rate * (np.sum(y_pred - y) / m)\n",
    "\n",
    "    def predict(self, X: np.ndarray) -> np.ndarray:\n",
    "        return X.dot(self.W) + self.b\n",
    "\n",
    "    def score(self, y_true: np.ndarray, y_pred: np.ndarray) -> float:\n",
    "        RSS = np.sum((y_true - y_pred)**2)\n",
    "        TSS = np.sum((y_true - y_true.mean())**2)\n",
    "        return 1 - RSS / TSS"
   ]
  },
  {
   "attachments": {},
   "cell_type": "markdown",
   "metadata": {},
   "source": [
    "## Test the model\n",
    "### Testing with 1 feature"
   ]
  },
  {
   "cell_type": "code",
   "execution_count": 3,
   "metadata": {},
   "outputs": [],
   "source": [
    "X, y = make_regression(n_samples=1000, n_features=1, noise=20, random_state=0)\n",
    "x_train, x_test, y_train, y_test = train_test_split(X, y, test_size=0.2, shuffle=True, random_state=0)"
   ]
  },
  {
   "cell_type": "code",
   "execution_count": 4,
   "metadata": {},
   "outputs": [
    {
     "data": {
      "text/plain": [
       "<matplotlib.collections.PathCollection at 0x182053e8190>"
      ]
     },
     "execution_count": 4,
     "metadata": {},
     "output_type": "execute_result"
    },
    {
     "data": {
      "image/png": "[encoded data removed]",
      "text/plain": [
       "<Figure size 432x288 with 1 Axes>"
      ]
     },
     "metadata": {
      "needs_background": "light"
     },
     "output_type": "display_data"
    }
   ],
   "source": [
    "plt.scatter(x_train, y_train)\n",
    "plt.scatter(x_test, y_test, c='r')"
   ]
  },
  {
   "cell_type": "code",
   "execution_count": 5,
   "metadata": {},
   "outputs": [],
   "source": [
    "model = LinearRegression()\n",
    "model.fit(x_train, y_train)\n",
    "pred = model.predict(x_test)"
   ]
  },
  {
   "cell_type": "code",
   "execution_count": 6,
   "metadata": {},
   "outputs": [
    {
     "data": {
      "text/plain": [
       "[<matplotlib.lines.Line2D at 0x182074e8af0>]"
      ]
     },
     "execution_count": 6,
     "metadata": {},
     "output_type": "execute_result"
    },
    {
     "data": {
      "image/png": "[encoded data removed]",
      "text/plain": [
       "<Figure size 432x288 with 1 Axes>"
      ]
     },
     "metadata": {
      "needs_background": "light"
     },
     "output_type": "display_data"
    }
   ],
   "source": [
    "plt.scatter(x_test, y_test, c='r')\n",
    "plt.plot(x_test, pred)"
   ]
  },
  {
   "cell_type": "code",
   "execution_count": 7,
   "metadata": {},
   "outputs": [
    {
     "name": "stdout",
     "output_type": "stream",
     "text": [
      "Score on training data: 0.9267847111560095\n",
      "Score on testing data: 0.9210578818098943\n"
     ]
    }
   ],
   "source": [
    "print(f\"Score on training data: {model.score(y_train, model.predict(x_train))}\")\n",
    "print(f\"Score on testing data: {model.score(y_test, pred)}\")"
   ]
  },
  {
   "attachments": {},
   "cell_type": "markdown",
   "metadata": {},
   "source": [
    "### Testing with 2 features"
   ]
  },
  {
   "cell_type": "code",
   "execution_count": 8,
   "metadata": {},
   "outputs": [],
   "source": [
    "X, y = make_regression(n_samples=1000, n_features=2, noise=20, random_state=0)\n",
    "x_train, x_test, y_train, y_test = train_test_split(X, y, test_size=0.2, shuffle=True, random_state=0)"
   ]
  },
  {
   "cell_type": "code",
   "execution_count": 9,
   "metadata": {},
   "outputs": [],
   "source": [
    "model = LinearRegression()\n",
    "model.fit(x_train, y_train)\n",
    "pred = model.predict(x_test)"
   ]
  },
  {
   "cell_type": "code",
   "execution_count": 10,
   "metadata": {},
   "outputs": [
    {
     "name": "stdout",
     "output_type": "stream",
     "text": [
      "Score on training data: 0.8734500932533035\n",
      "Score on testing data: 0.8813286267180491\n"
     ]
    }
   ],
   "source": [
    "print(f\"Score on training data: {model.score(y_train, model.predict(x_train))}\")\n",
    "print(f\"Score on testing data: {model.score(y_test, pred)}\")"
   ]
  }
 ],
 "metadata": {
  "kernelspec": {
   "display_name": "Python 3",
   "language": "python",
   "name": "python3"
  },
  "language_info": {
   "codemirror_mode": {
    "name": "ipython",
    "version": 3
   },
   "file_extension": ".py",
   "mimetype": "text/x-python",
   "name": "python",
   "nbconvert_exporter": "python",
   "pygments_lexer": "ipython3",
   "version": "3.10.4"
  },
  "orig_nbformat": 4,
  "vscode": {
   "interpreter": {
    "hash": "fdad95d8d241660c8190244d3c8c7cd5020a5821f919c190bce90b02a3b33d1f"
   }
  }
 },
 "nbformat": 4,
 "nbformat_minor": 2
}
