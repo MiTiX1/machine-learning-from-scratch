{
 "cells": [
  {
   "cell_type": "markdown",
   "metadata": {},
   "source": [
    "# Logistic regression"
   ]
  },
  {
   "cell_type": "code",
   "execution_count": 1,
   "metadata": {},
   "outputs": [],
   "source": [
    "import numpy as np\n",
    "import matplotlib.pyplot as plt\n",
    "from sklearn.datasets import load_iris\n",
    "from sklearn.model_selection import train_test_split"
   ]
  },
  {
   "attachments": {},
   "cell_type": "markdown",
   "metadata": {},
   "source": [
    "## Create the model\n",
    "\n",
    "- **Linear model**: \n",
    "$f(X) = WX + b$\n",
    "\n",
    "- **Sigmoid**:\n",
    "$S(z)= \\frac{1}{1+e^{-z}}$\n",
    "\n",
    "- **Approximation**:\n",
    "$\\hat{y} = S(f(x))$\n",
    "\n",
    "- **Cost function**:\n",
    "$J(W, b) = -\\frac{1}{n} \\sum_{i=1}^{n}[y_i \\log(f(x_i)) + (1-y_i)\\log(1-f(x_i))]$\n",
    "\n",
    "- **Gradients**:\n",
    "    - $\\frac{\\partial J(W,b)}{\\partial W} = \\frac{1}{n} \\sum 2x_i(Wx_i + b - y_i)$\n",
    "    - $\\frac{\\partial J(W,b)}{\\partial b} = \\frac{1}{n} \\sum 2(Wx_i + b - y_i)$\n",
    "    - In practice, we can get ride of the scaling factor $(2)$.\n",
    "\n",
    "- **Gradient descent**:\n",
    "    - $W = W - \\alpha \\frac{\\partial J(W,b)}{\\partial W}$\n",
    "    - $b = b - \\alpha \\frac{\\partial J(W,b)}{\\partial b}$"
   ]
  },
  {
   "cell_type": "code",
   "execution_count": 2,
   "metadata": {},
   "outputs": [],
   "source": [
    "class LogisticRegression:\n",
    "    def __init__(self, n_iter: int = 1000, learning_rate: float = 0.001) -> None:\n",
    "        self.n_iter = n_iter\n",
    "        self.learning_rate = learning_rate\n",
    "        self.cost_history = np.zeros(n_iter)\n",
    "\n",
    "    def _init_weights(self, n: int) -> None:\n",
    "        self.W = np.zeros(n)\n",
    "        self.b = np.random.randn(1)\n",
    "\n",
    "    def _cost(self, y_true: np.ndarray, y_pred: np.ndarray) -> float:\n",
    "        return np.mean(-y_true*np.log(y_pred) - (1-y_true)*np.log(1 - y_pred))\n",
    "\n",
    "    def _sigmoid(self, z):\n",
    "        return 1 / (1 + np.exp(-z))\n",
    "\n",
    "    def fit(self, X: np.ndarray, y: np.ndarray) -> None:\n",
    "        m, n = X.shape\n",
    "        self._init_weights(n)\n",
    "\n",
    "        for i in range(self.n_iter):\n",
    "            y_pred = self._sigmoid(X.dot(self.W) + self.b)\n",
    "            self.cost_history[i] = self._cost(y, y_pred)\n",
    "            self.W -= self.learning_rate * (X.T.dot(y_pred - y) / m)\n",
    "            self.b -= self.learning_rate * (np.sum(y_pred - y) / m)\n",
    "\n",
    "    def predict(self, X: np.ndarray) -> np.ndarray:\n",
    "        y_pred = self._sigmoid(X.dot(self.W) + self.b)\n",
    "        return np.array([1 if y >= 0.5 else 0 for y in y_pred])\n",
    "\n",
    "    def score(self, y_true: np.ndarray, y_pred: np.ndarray) -> float:\n",
    "        return np.mean(y_true == y_pred)"
   ]
  },
  {
   "cell_type": "code",
   "execution_count": 3,
   "metadata": {},
   "outputs": [],
   "source": [
    "iris = load_iris()\n",
    "x_train, x_test, y_train, y_test = train_test_split(iris.data, (iris.target != 0) * 1, test_size=0.2, shuffle=True, random_state=0)"
   ]
  },
  {
   "cell_type": "code",
   "execution_count": 4,
   "metadata": {},
   "outputs": [
    {
     "data": {
      "image/png": "[encoded data removed]",
      "text/plain": [
       "<Figure size 720x432 with 1 Axes>"
      ]
     },
     "metadata": {
      "needs_background": "light"
     },
     "output_type": "display_data"
    }
   ],
   "source": [
    "plt.figure(figsize=(10, 6))\n",
    "plt.scatter(x_train[y_train == 0][:, 0], x_train[y_train == 0][:, 1], color='b', label='train 0')\n",
    "plt.scatter(x_train[y_train == 1][:, 0], x_train[y_train == 1][:, 1], color='r', label='train 1')\n",
    "plt.scatter(x_test[y_test == 0][:, 0], x_test[y_test == 0][:, 1], color='g', label='test 0')\n",
    "plt.scatter(x_test[y_test == 1][:, 0], x_test[y_test == 1][:, 1], color='y', label='test 1')\n",
    "plt.legend();"
   ]
  },
  {
   "cell_type": "code",
   "execution_count": 5,
   "metadata": {},
   "outputs": [],
   "source": [
    "model = LogisticRegression(n_iter=10000)\n",
    "model.fit(x_train, y_train)\n",
    "pred = model.predict(x_test)"
   ]
  },
  {
   "cell_type": "code",
   "execution_count": 6,
   "metadata": {},
   "outputs": [
    {
     "name": "stdout",
     "output_type": "stream",
     "text": [
      "Score on training data: 1.0\n",
      "Score on testing data: 1.0\n"
     ]
    }
   ],
   "source": [
    "print(f\"Score on training data: {model.score(y_train, model.predict(x_train))}\")\n",
    "print(f\"Score on testing data: {model.score(y_test, pred)}\")"
   ]
  },
  {
   "cell_type": "code",
   "execution_count": 7,
   "metadata": {},
   "outputs": [
    {
     "data": {
      "text/plain": [
       "[<matplotlib.lines.Line2D at 0x1f777690490>]"
      ]
     },
     "execution_count": 7,
     "metadata": {},
     "output_type": "execute_result"
    },
    {
     "data": {
      "image/png": "[encoded data removed]",
      "text/plain": [
       "<Figure size 432x288 with 1 Axes>"
      ]
     },
     "metadata": {
      "needs_background": "light"
     },
     "output_type": "display_data"
    }
   ],
   "source": [
    "plt.plot(model.cost_history)"
   ]
  }
 ],
 "metadata": {
  "kernelspec": {
   "display_name": "Python 3",
   "language": "python",
   "name": "python3"
  },
  "language_info": {
   "codemirror_mode": {
    "name": "ipython",
    "version": 3
   },
   "file_extension": ".py",
   "mimetype": "text/x-python",
   "name": "python",
   "nbconvert_exporter": "python",
   "pygments_lexer": "ipython3",
   "version": "3.10.4"
  },
  "orig_nbformat": 4,
  "vscode": {
   "interpreter": {
    "hash": "fdad95d8d241660c8190244d3c8c7cd5020a5821f919c190bce90b02a3b33d1f"
   }
  }
 },
 "nbformat": 4,
 "nbformat_minor": 2
}
